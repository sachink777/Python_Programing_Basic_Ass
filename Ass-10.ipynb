{
 "cells": [
  {
   "cell_type": "markdown",
   "metadata": {},
   "source": [
    "# 1. Write a Python program to find sum of elements in list?"
   ]
  },
  {
   "cell_type": "markdown",
   "metadata": {},
   "source": [
    "solution 1"
   ]
  },
  {
   "cell_type": "code",
   "execution_count": 3,
   "metadata": {},
   "outputs": [
    {
     "data": {
      "text/plain": [
       "21"
      ]
     },
     "execution_count": 3,
     "metadata": {},
     "output_type": "execute_result"
    }
   ],
   "source": [
    "def sum_of_list(lst):\n",
    "    return sum(lst)\n",
    "sum_of_list([1,2,3,4,5,6])"
   ]
  },
  {
   "cell_type": "markdown",
   "metadata": {},
   "source": [
    "solution 2"
   ]
  },
  {
   "cell_type": "code",
   "execution_count": 9,
   "metadata": {},
   "outputs": [
    {
     "data": {
      "text/plain": [
       "21"
      ]
     },
     "execution_count": 9,
     "metadata": {},
     "output_type": "execute_result"
    }
   ],
   "source": [
    "def sum_of_list(lst):\n",
    "    c=0\n",
    "    for i in range(len(lst)):\n",
    "        c=c+lst[i]\n",
    "    return c\n",
    "sum_of_list([1,2,3,4,5,6])"
   ]
  },
  {
   "cell_type": "markdown",
   "metadata": {},
   "source": [
    "# 2. Write a Python program to Multiply all numbers in the list?"
   ]
  },
  {
   "cell_type": "code",
   "execution_count": 11,
   "metadata": {},
   "outputs": [
    {
     "data": {
      "text/plain": [
       "('multiplication is :', 720)"
      ]
     },
     "execution_count": 11,
     "metadata": {},
     "output_type": "execute_result"
    }
   ],
   "source": [
    "def mul_of_list(lst):\n",
    "    c=1\n",
    "    for i in range(len(lst)):\n",
    "        c=c*lst[i]\n",
    "    return 'multiplication is :',c\n",
    "mul_of_list([1,2,3,4,5,6])"
   ]
  },
  {
   "cell_type": "markdown",
   "metadata": {},
   "source": [
    "# 3. Write a Python program to find smallest number in a list?"
   ]
  },
  {
   "cell_type": "code",
   "execution_count": 39,
   "metadata": {},
   "outputs": [
    {
     "data": {
      "text/plain": [
       "('smallest number is :', 0)"
      ]
     },
     "execution_count": 39,
     "metadata": {},
     "output_type": "execute_result"
    }
   ],
   "source": [
    "def smallest_element(lst):\n",
    "    lst.sort()\n",
    "    return 'smallest number is :',lst[0]\n",
    "smallest_element([1,2,3,4,0,5,6])"
   ]
  },
  {
   "cell_type": "code",
   "execution_count": 22,
   "metadata": {},
   "outputs": [
    {
     "data": {
      "text/plain": [
       "0"
      ]
     },
     "execution_count": 22,
     "metadata": {},
     "output_type": "execute_result"
    }
   ],
   "source": [
    "def smallest_element(lst):\n",
    "    return min(lst)\n",
    "smallest_element([1,2,3,4,0,5,6])"
   ]
  },
  {
   "cell_type": "markdown",
   "metadata": {},
   "source": [
    "# 4. Write a Python program to find largest number in a list?"
   ]
  },
  {
   "cell_type": "code",
   "execution_count": 37,
   "metadata": {},
   "outputs": [
    {
     "data": {
      "text/plain": [
       "('largest number is :', 6)"
      ]
     },
     "execution_count": 37,
     "metadata": {},
     "output_type": "execute_result"
    }
   ],
   "source": [
    "def largest_element(lst):\n",
    "    lst.sort()\n",
    "    return 'largest number is :',lst[-1]\n",
    "largest_element([1,2,3,4,0,5,6])"
   ]
  },
  {
   "cell_type": "code",
   "execution_count": 23,
   "metadata": {},
   "outputs": [
    {
     "data": {
      "text/plain": [
       "6"
      ]
     },
     "execution_count": 23,
     "metadata": {},
     "output_type": "execute_result"
    }
   ],
   "source": [
    "def largest_element(lst):\n",
    "    return max(lst)\n",
    "largest_element([1,2,3,4,0,5,6])"
   ]
  },
  {
   "cell_type": "markdown",
   "metadata": {},
   "source": [
    "# 5. Write a Python program to find second largest number in a list?"
   ]
  },
  {
   "cell_type": "code",
   "execution_count": 35,
   "metadata": {},
   "outputs": [
    {
     "data": {
      "text/plain": [
       "('second largest number is :', 5)"
      ]
     },
     "execution_count": 35,
     "metadata": {},
     "output_type": "execute_result"
    }
   ],
   "source": [
    "def second_largest_element(lst):\n",
    "    lst.sort()\n",
    "    return 'second largest number is :',lst[-2]\n",
    "second_largest_element([1,2,3,4,0,5,6])"
   ]
  },
  {
   "cell_type": "markdown",
   "metadata": {},
   "source": [
    "# 6. Write a Python program to find N largest elements from a list?"
   ]
  },
  {
   "cell_type": "code",
   "execution_count": 49,
   "metadata": {},
   "outputs": [
    {
     "data": {
      "text/plain": [
       "(2, ':  is the -5 largest number ')"
      ]
     },
     "execution_count": 49,
     "metadata": {},
     "output_type": "execute_result"
    }
   ],
   "source": [
    "def nth_largest_element(lst,n):\n",
    "    lst.sort()\n",
    "    return lst[n],':  is the {} largest number '.format(n)\n",
    "nth_largest_element([1,2,3,4,0,5,6],-5)"
   ]
  },
  {
   "cell_type": "markdown",
   "metadata": {},
   "source": [
    "# 7. Write a Python program to print even numbers in a list?"
   ]
  },
  {
   "cell_type": "code",
   "execution_count": 51,
   "metadata": {},
   "outputs": [
    {
     "name": "stdout",
     "output_type": "stream",
     "text": [
      "(2, ': is even no.')\n",
      "(4, ': is even no.')\n",
      "(6, ': is even no.')\n",
      "(8, ': is even no.')\n",
      "(10, ': is even no.')\n",
      "(12, ': is even no.')\n",
      "(14, ': is even no.')\n",
      "(16, ': is even no.')\n",
      "(18, ': is even no.')\n",
      "(20, ': is even no.')\n"
     ]
    }
   ],
   "source": [
    "def even_no(length):\n",
    "    for i in range(1,length+1):\n",
    "        if i%2==0:\n",
    "            yield i, \": is even no.\"\n",
    "        else:\n",
    "            pass\n",
    "for i in even_no(20):\n",
    "    print(i)"
   ]
  },
  {
   "cell_type": "markdown",
   "metadata": {},
   "source": [
    "# 8. Write a Python program to print odd numbers in a List?"
   ]
  },
  {
   "cell_type": "code",
   "execution_count": 53,
   "metadata": {},
   "outputs": [
    {
     "name": "stdout",
     "output_type": "stream",
     "text": [
      "(1, ': is odd no.')\n",
      "(3, ': is odd no.')\n",
      "(5, ': is odd no.')\n",
      "(7, ': is odd no.')\n",
      "(9, ': is odd no.')\n",
      "(11, ': is odd no.')\n",
      "(13, ': is odd no.')\n",
      "(15, ': is odd no.')\n",
      "(17, ': is odd no.')\n",
      "(19, ': is odd no.')\n"
     ]
    }
   ],
   "source": [
    "def odd_no(length):\n",
    "    for i in range(1,length+1):\n",
    "        if i%2!=0:\n",
    "            yield i, \": is odd no.\"\n",
    "        else:\n",
    "            pass\n",
    "for i in odd_no(20):\n",
    "    print(i)"
   ]
  },
  {
   "cell_type": "markdown",
   "metadata": {},
   "source": [
    "# 9. Write a Python program to Remove empty List from List?"
   ]
  },
  {
   "cell_type": "code",
   "execution_count": 5,
   "metadata": {},
   "outputs": [
    {
     "data": {
      "text/plain": [
       "[]"
      ]
     },
     "execution_count": 5,
     "metadata": {},
     "output_type": "execute_result"
    }
   ],
   "source": [
    "def remove_empty_list(lst):\n",
    "    for i in lst:\n",
    "        if type(i) == list and len(i) == 0:\n",
    "            return i\n",
    "remove_empty_list([1,2,3,4,[1,2,3,4],[],[5],6])      "
   ]
  },
  {
   "cell_type": "markdown",
   "metadata": {},
   "source": [
    "# 11. Write a Python program to Count occurrences of an element in a list?"
   ]
  },
  {
   "cell_type": "code",
   "execution_count": 11,
   "metadata": {},
   "outputs": [
    {
     "name": "stdout",
     "output_type": "stream",
     "text": [
      "enter the number you want to find the count :3\n"
     ]
    },
    {
     "data": {
      "text/plain": [
       "(2, 'is the count of 3 :')"
      ]
     },
     "execution_count": 11,
     "metadata": {},
     "output_type": "execute_result"
    }
   ],
   "source": [
    "def count(inp):\n",
    "    c=0\n",
    "    for i in lst:\n",
    "        if i == inp:\n",
    "            c=c+1\n",
    "        else:\n",
    "            pass\n",
    "    return c,'is the count of {} :'.format(inp)\n",
    "lst=[1,2,3,4,5,2,3,4,5,6,7,8,2,4,4,5]\n",
    "count(int(input('enter the number you want to find the count :')))"
   ]
  },
  {
   "cell_type": "markdown",
   "metadata": {},
   "source": [
    "# 10. Write a Python program to Cloning or Copying a list?"
   ]
  },
  {
   "cell_type": "markdown",
   "metadata": {},
   "source": [
    "solution 1 copy"
   ]
  },
  {
   "cell_type": "code",
   "execution_count": 12,
   "metadata": {},
   "outputs": [
    {
     "data": {
      "text/plain": [
       "[1, 2, 3, 4, 5, 6]"
      ]
     },
     "execution_count": 12,
     "metadata": {},
     "output_type": "execute_result"
    }
   ],
   "source": [
    "def cpy(lst1):\n",
    "    lst2=[]\n",
    "    lst2=lst1.copy()\n",
    "    return lst2\n",
    "cpy([1,2,3,4,5,6])  "
   ]
  },
  {
   "cell_type": "markdown",
   "metadata": {},
   "source": [
    "solution 2"
   ]
  },
  {
   "cell_type": "code",
   "execution_count": 16,
   "metadata": {},
   "outputs": [
    {
     "data": {
      "text/plain": [
       "[[1, 2, 3], [4, 5, 6]]"
      ]
     },
     "execution_count": 16,
     "metadata": {},
     "output_type": "execute_result"
    }
   ],
   "source": [
    "def cpy(lst1):\n",
    "    lst2=[]\n",
    "    lst2=lst1\n",
    "    return lst2\n",
    "cpy([[1,2,3],[4,5,6]]) "
   ]
  },
  {
   "cell_type": "markdown",
   "metadata": {},
   "source": [
    "solution 3 deepcopy"
   ]
  },
  {
   "cell_type": "code",
   "execution_count": 23,
   "metadata": {},
   "outputs": [
    {
     "data": {
      "text/plain": [
       "[1, 2, 3, 4, 5, 6]"
      ]
     },
     "execution_count": 23,
     "metadata": {},
     "output_type": "execute_result"
    }
   ],
   "source": [
    "import copy\n",
    "def cpy(lst1):\n",
    "    lst2=[]\n",
    "    lst2=copy.deepcopy(lst1)\n",
    "    return lst2\n",
    "cpy([1,2,3,4,5,6])  "
   ]
  }
 ],
 "metadata": {
  "kernelspec": {
   "display_name": "Python 3",
   "language": "python",
   "name": "python3"
  },
  "language_info": {
   "codemirror_mode": {
    "name": "ipython",
    "version": 3
   },
   "file_extension": ".py",
   "mimetype": "text/x-python",
   "name": "python",
   "nbconvert_exporter": "python",
   "pygments_lexer": "ipython3",
   "version": "3.8.3"
  }
 },
 "nbformat": 4,
 "nbformat_minor": 4
}
