{
 "cells": [
  {
   "cell_type": "code",
   "execution_count": null,
   "metadata": {},
   "outputs": [],
   "source": [
    "import numpy as np"
   ]
  },
  {
   "cell_type": "code",
   "execution_count": null,
   "metadata": {},
   "outputs": [],
   "source": [
    "array1 = np.arange(0,10,2)\n",
    "array1"
   ]
  },
  {
   "cell_type": "code",
   "execution_count": null,
   "metadata": {},
   "outputs": [],
   "source": [
    "array2 = np.arange(0,10,2)\n",
    "array2"
   ]
  },
  {
   "cell_type": "markdown",
   "metadata": {},
   "source": [
    "# 1. Write a Python Program to find sum of array?"
   ]
  },
  {
   "cell_type": "code",
   "execution_count": null,
   "metadata": {},
   "outputs": [],
   "source": [
    "array1.sum()"
   ]
  },
  {
   "cell_type": "code",
   "execution_count": null,
   "metadata": {},
   "outputs": [],
   "source": [
    "array3 = array1 + array2\n",
    "array3"
   ]
  },
  {
   "cell_type": "markdown",
   "metadata": {},
   "source": [
    "# 2. Write a Python Program to find largest element in an array?"
   ]
  },
  {
   "cell_type": "code",
   "execution_count": null,
   "metadata": {},
   "outputs": [],
   "source": [
    "array3"
   ]
  },
  {
   "cell_type": "code",
   "execution_count": null,
   "metadata": {},
   "outputs": [],
   "source": [
    "array3.max()"
   ]
  },
  {
   "cell_type": "markdown",
   "metadata": {},
   "source": [
    "# 3. Write a Python Program to Split the array and add the first part to the end?"
   ]
  },
  {
   "cell_type": "code",
   "execution_count": null,
   "metadata": {},
   "outputs": [],
   "source": [
    "def split(n):\n",
    "    lst=[]\n",
    "    for i in range(n):\n",
    "        lst.append(int(input()))\n",
    "    split_elements = int(input('please enter split no :'))\n",
    "    if split_elements> len(lst):\n",
    "        return 'Please enter split_element less than len of list'\n",
    "    else:\n",
    "        split_record = lst[:split_elements]\n",
    "        return 'split array :', lst[split_elements:n] + lst[:split_elements]\n",
    "split(int(input('please enter the len of list: ')))"
   ]
  },
  {
   "cell_type": "markdown",
   "metadata": {},
   "source": [
    "# 4. Write a Python Program for array rotation?"
   ]
  },
  {
   "cell_type": "code",
   "execution_count": 6,
   "metadata": {},
   "outputs": [
    {
     "name": "stdout",
     "output_type": "stream",
     "text": [
      "enter len of list3\n",
      "please enter list element :1\n",
      "please enter list element :2\n",
      "please enter list element :3\n",
      "enter the ratoation index or elemnet count :1\n",
      "please enter on which direction array has to rotate , L or R :R\n"
     ]
    },
    {
     "data": {
      "text/plain": [
       "('Right Shift :', [3, 1, 2])"
      ]
     },
     "execution_count": 6,
     "metadata": {},
     "output_type": "execute_result"
    }
   ],
   "source": [
    "def rotation(no):\n",
    "    lst=[]\n",
    "    for i in range(no):\n",
    "        lst.append(int(input('please enter list element :')))\n",
    "    ratation_index = int(input('enter the ratoation index or elemnet count :'))\n",
    "    \n",
    "    if ratation_index > len(lst):\n",
    "        return 'please enter value less than lst index : '\n",
    "    direction = input('please enter on which direction array has to rotate , L or R :')\n",
    "    \n",
    "    if direction == 'R':\n",
    "        return 'Right Shift :', lst[-ratation_index:] + lst [:(no - ratation_index)]\n",
    "    elif direction == 'L':\n",
    "        return 'Left Shift :',lst[ratation_index:n] + lst[:ratation_index]\n",
    "rotation(int(input('enter len of list')))"
   ]
  },
  {
   "cell_type": "markdown",
   "metadata": {},
   "source": [
    "# 5. Write a Python Program to check if given array is Monotonic?"
   ]
  },
  {
   "cell_type": "code",
   "execution_count": 25,
   "metadata": {},
   "outputs": [
    {
     "name": "stdout",
     "output_type": "stream",
     "text": [
      "please enter len of list :8\n",
      " please enter the list element :1\n",
      "[1]\n",
      " please enter the list element :2\n",
      "[1, 2]\n",
      " please enter the list element :4\n",
      "[1, 2, 4]\n",
      " please enter the list element :56\n",
      "[1, 2, 4, 56]\n",
      " please enter the list element :89\n",
      "[1, 2, 4, 56, 89]\n",
      " please enter the list element :97\n",
      "[1, 2, 4, 56, 89, 97]\n",
      " please enter the list element :100\n",
      "[1, 2, 4, 56, 89, 97, 100]\n",
      " please enter the list element :102\n",
      "[1, 2, 4, 56, 89, 97, 100, 102]\n"
     ]
    },
    {
     "data": {
      "text/plain": [
       "'monotonic'"
      ]
     },
     "execution_count": 25,
     "metadata": {},
     "output_type": "execute_result"
    }
   ],
   "source": [
    "def monotonic(no):\n",
    "    lst=[]\n",
    "    for i in range(no):\n",
    "        lst.append(int(input(' please enter the list element :')))\n",
    "        print(lst)\n",
    "    for i in range(no-1):\n",
    "        if lst[i] >= lst[i+1]:\n",
    "            return 'monotonic'\n",
    "        elif lst[i] <= lst[i+1]:\n",
    "            return 'monotonic'\n",
    "    else:\n",
    "        return 'non monotic'\n",
    "monotonic(int(input('please enter len of list :')))"
   ]
  },
  {
   "cell_type": "code",
   "execution_count": null,
   "metadata": {},
   "outputs": [],
   "source": []
  }
 ],
 "metadata": {
  "kernelspec": {
   "display_name": "Python 3",
   "language": "python",
   "name": "python3"
  },
  "language_info": {
   "codemirror_mode": {
    "name": "ipython",
    "version": 3
   },
   "file_extension": ".py",
   "mimetype": "text/x-python",
   "name": "python",
   "nbconvert_exporter": "python",
   "pygments_lexer": "ipython3",
   "version": "3.8.3"
  }
 },
 "nbformat": 4,
 "nbformat_minor": 4
}
