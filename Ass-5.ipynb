{
 "cells": [
  {
   "cell_type": "markdown",
   "metadata": {},
   "source": [
    "solution 1"
   ]
  },
  {
   "cell_type": "markdown",
   "metadata": {},
   "source": [
    "# 1. Write a Python Program to Find LCM?"
   ]
  },
  {
   "cell_type": "code",
   "execution_count": 48,
   "metadata": {},
   "outputs": [
    {
     "data": {
      "text/plain": [
       "(84, ': is the lcm of 14 and 12')"
      ]
     },
     "execution_count": 48,
     "metadata": {},
     "output_type": "execute_result"
    }
   ],
   "source": [
    "def lcm(x,y):\n",
    "    if x>y:\n",
    "        greater = x\n",
    "    else:\n",
    "        greater=y\n",
    "    while True:\n",
    "        if greater%x == 0  and greater%y==0:\n",
    "            lcm=greater\n",
    "            break\n",
    "        greater=greater+1    \n",
    "    return lcm, ': is the lcm of {} and {}'.format(x,y)\n",
    "lcm(14,12)"
   ]
  },
  {
   "cell_type": "markdown",
   "metadata": {},
   "source": [
    "solution 2"
   ]
  },
  {
   "cell_type": "code",
   "execution_count": 37,
   "metadata": {},
   "outputs": [
    {
     "name": "stdout",
     "output_type": "stream",
     "text": [
      "84\n"
     ]
    }
   ],
   "source": [
    "x=14\n",
    "y=12\n",
    "lst=[]\n",
    "lst1=[]\n",
    "lst2=[]\n",
    "for i in range(1,11):\n",
    "    lst.append(x*i)\n",
    "    lst1.append(y*i)\n",
    "for i in lst:\n",
    "    for j in lst1:\n",
    "        if i == j:\n",
    "            lst2.append(i)\n",
    "print(lst2[0])       "
   ]
  },
  {
   "cell_type": "markdown",
   "metadata": {},
   "source": [
    "solution 3"
   ]
  },
  {
   "cell_type": "code",
   "execution_count": 35,
   "metadata": {},
   "outputs": [
    {
     "name": "stdout",
     "output_type": "stream",
     "text": [
      "60 : is the lcm of 12 and 15\n"
     ]
    }
   ],
   "source": [
    "x=12\n",
    "y=15\n",
    "lst10=[]\n",
    "lst11=[]\n",
    "for i in range(1,11):\n",
    "    lst10.append(x*i)\n",
    "for i in range(1,11):\n",
    "    if y*i in lst10:\n",
    "        lst11.append(y*i)\n",
    "print(lst11[0], ': is the lcm of {} and {}'.format(x,y))"
   ]
  },
  {
   "cell_type": "markdown",
   "metadata": {},
   "source": [
    "# 2. Write a Python Program to Find HCF?"
   ]
  },
  {
   "cell_type": "code",
   "execution_count": 52,
   "metadata": {},
   "outputs": [
    {
     "name": "stdout",
     "output_type": "stream",
     "text": [
      "The H.C.F. is 12\n"
     ]
    }
   ],
   "source": [
    "def compute_hcf(x, y):\n",
    "\n",
    "    if x > y:\n",
    "        smaller = y\n",
    "    else:\n",
    "        smaller = x\n",
    "    for i in range(1, smaller+1):\n",
    "        if((x % i == 0) and (y % i == 0)):\n",
    "            hcf = i \n",
    "    return hcf\n",
    "\n",
    "num1 = 36\n",
    "num2 = 60\n",
    "\n",
    "print(\"The H.C.F. is\", compute_hcf(num1, num2))\n"
   ]
  },
  {
   "cell_type": "markdown",
   "metadata": {},
   "source": [
    "# 3. Write a Python Program to Convert Decimal to Binary, Octal and Hexadecimal?"
   ]
  },
  {
   "cell_type": "code",
   "execution_count": 53,
   "metadata": {},
   "outputs": [
    {
     "name": "stdout",
     "output_type": "stream",
     "text": [
      "<built-in function bin> of 10 : 0b1010\n",
      "<built-in function oct> of 10 : 0o12\n",
      "<built-in function hex> of 10 : 0xa\n"
     ]
    }
   ],
   "source": [
    "def conversion(num):\n",
    "    list1=[bin,oct,hex]\n",
    "    for i in list1:\n",
    "        a='{} of {}'.format(i,num) \n",
    "        b= i(num)\n",
    "        print(a, ':' ,b)\n",
    "conversion(10)"
   ]
  },
  {
   "cell_type": "markdown",
   "metadata": {},
   "source": [
    "# 4. Write a Python Program To Find ASCII value of a character?"
   ]
  },
  {
   "cell_type": "code",
   "execution_count": 54,
   "metadata": {},
   "outputs": [
    {
     "name": "stdout",
     "output_type": "stream",
     "text": [
      "enter the character :s\n"
     ]
    },
    {
     "data": {
      "text/plain": [
       "115"
      ]
     },
     "execution_count": 54,
     "metadata": {},
     "output_type": "execute_result"
    }
   ],
   "source": [
    "def ascii(str):\n",
    "    return ord(str)\n",
    "ascii(input('enter the character :'))"
   ]
  },
  {
   "cell_type": "markdown",
   "metadata": {},
   "source": [
    "# 5. Write a Python Program to Make a Simple Calculator with 4 basic mathematical operations?"
   ]
  },
  {
   "cell_type": "code",
   "execution_count": 55,
   "metadata": {},
   "outputs": [
    {
     "data": {
      "text/plain": [
       "0.8333333333333334"
      ]
     },
     "execution_count": 55,
     "metadata": {},
     "output_type": "execute_result"
    }
   ],
   "source": [
    "class calculator:\n",
    "    def __init__(self,a,b):\n",
    "        self.a=a\n",
    "        self.b=b\n",
    "        \n",
    "    def add(self):\n",
    "        return self.a+self.b\n",
    "    \n",
    "    def sub(self):\n",
    "        return self.a-self.b\n",
    "    \n",
    "    def mul(self):\n",
    "        return self.a*self.b\n",
    "    \n",
    "    def div(self):\n",
    "        return self.a/self.b\n",
    "    \n",
    "c1=calculator(55,66)\n",
    "c1.add()\n",
    "c1.div()"
   ]
  },
  {
   "cell_type": "code",
   "execution_count": null,
   "metadata": {},
   "outputs": [],
   "source": []
  }
 ],
 "metadata": {
  "kernelspec": {
   "display_name": "Python 3",
   "language": "python",
   "name": "python3"
  },
  "language_info": {
   "codemirror_mode": {
    "name": "ipython",
    "version": 3
   },
   "file_extension": ".py",
   "mimetype": "text/x-python",
   "name": "python",
   "nbconvert_exporter": "python",
   "pygments_lexer": "ipython3",
   "version": "3.8.3"
  }
 },
 "nbformat": 4,
 "nbformat_minor": 4
}
