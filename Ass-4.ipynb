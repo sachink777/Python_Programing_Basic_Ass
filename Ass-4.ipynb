{
 "cells": [
  {
   "cell_type": "markdown",
   "metadata": {},
   "source": [
    "# 1. Write a Python Program to Find the Factorial of a Number?"
   ]
  },
  {
   "cell_type": "code",
   "execution_count": 9,
   "metadata": {},
   "outputs": [
    {
     "name": "stdout",
     "output_type": "stream",
     "text": [
      "enter a number :6\n"
     ]
    },
    {
     "data": {
      "text/plain": [
       "' 720 : is the factorial of : 6'"
      ]
     },
     "execution_count": 9,
     "metadata": {},
     "output_type": "execute_result"
    }
   ],
   "source": [
    "def factorial(num):\n",
    "    no = 1\n",
    "    for i in range(num,0,-1):\n",
    "        no = no * i\n",
    "    return \" {} : is the factorial of : {}\".format(no,num)\n",
    "factorial(int(input('enter a number :')))"
   ]
  },
  {
   "cell_type": "markdown",
   "metadata": {},
   "source": [
    "# 2. Write a Python Program to Display the multiplication Table?"
   ]
  },
  {
   "cell_type": "code",
   "execution_count": 36,
   "metadata": {},
   "outputs": [
    {
     "name": "stdout",
     "output_type": "stream",
     "text": [
      "enter the number whose table yoou want to see :31\n",
      "31 x 1 =  31\n",
      "31 x 2 =  62\n",
      "31 x 3 =  93\n",
      "31 x 4 =  124\n",
      "31 x 5 =  155\n",
      "31 x 6 =  186\n",
      "31 x 7 =  217\n",
      "31 x 8 =  248\n",
      "31 x 9 =  279\n",
      "31 x 10 =  310\n"
     ]
    }
   ],
   "source": [
    "def table(num):\n",
    "    for i in range(1,11):\n",
    "        a=num*i\n",
    "        b =\"{} x {} = \".format(num,i) \n",
    "        print(b,a)\n",
    "table(int(input('enter the number whose table yoou want to see :')))"
   ]
  },
  {
   "cell_type": "markdown",
   "metadata": {},
   "source": [
    "# 3. Write a Python Program to Display the multiplication Table?"
   ]
  },
  {
   "cell_type": "code",
   "execution_count": 44,
   "metadata": {},
   "outputs": [
    {
     "name": "stdout",
     "output_type": "stream",
     "text": [
      "enter the no. :10\n",
      "1\n",
      "1\n",
      "2\n",
      "3\n",
      "5\n",
      "8\n",
      "13\n",
      "21\n",
      "34\n",
      "55\n"
     ]
    }
   ],
   "source": [
    "def febo(n):\n",
    "    a,b=1,1\n",
    "    for i in range(0,n):\n",
    "        yield a\n",
    "        a,b=b,a+b\n",
    "for i in febo(int(input('enter the no. :'))):\n",
    "    print(i)"
   ]
  },
  {
   "cell_type": "markdown",
   "metadata": {},
   "source": [
    "# 4. Write a Python Program to Check Armstrong Number?"
   ]
  },
  {
   "cell_type": "code",
   "execution_count": 34,
   "metadata": {},
   "outputs": [
    {
     "name": "stdout",
     "output_type": "stream",
     "text": [
      "enter the number :153\n"
     ]
    },
    {
     "data": {
      "text/plain": [
       "(153, ': given number is armstrong number')"
      ]
     },
     "execution_count": 34,
     "metadata": {},
     "output_type": "execute_result"
    }
   ],
   "source": [
    "def armstrong(no):\n",
    "    lst=[]\n",
    "    num=no\n",
    "    count=0\n",
    "    while no!=0:\n",
    "        b = no%10\n",
    "        lst.append(b)\n",
    "        a=no//10\n",
    "        no=a\n",
    "    for i in lst:\n",
    "        count = count + i**len(lst)\n",
    "    if count == num:\n",
    "        return num ,': given number is armstrong number'\n",
    "    else:\n",
    "        return num ,': given number is not a armstrong number'\n",
    "armstrong(int(input('enter the number :')))"
   ]
  },
  {
   "cell_type": "code",
   "execution_count": 38,
   "metadata": {},
   "outputs": [
    {
     "name": "stdout",
     "output_type": "stream",
     "text": [
      "enter the length of interval1001\n",
      "(1, ': given number is armstrong number')\n",
      "(2, ': given number is armstrong number')\n",
      "(3, ': given number is armstrong number')\n",
      "(4, ': given number is armstrong number')\n",
      "(5, ': given number is armstrong number')\n",
      "(6, ': given number is armstrong number')\n",
      "(7, ': given number is armstrong number')\n",
      "(8, ': given number is armstrong number')\n",
      "(9, ': given number is armstrong number')\n",
      "(153, ': given number is armstrong number')\n",
      "(370, ': given number is armstrong number')\n",
      "(371, ': given number is armstrong number')\n",
      "(407, ': given number is armstrong number')\n"
     ]
    }
   ],
   "source": [
    "def armstrong(length):\n",
    "    for no in range(1,length):\n",
    "        lst=[]\n",
    "        num=no\n",
    "        count=0\n",
    "        while no!=0:\n",
    "            b = no%10\n",
    "            lst.append(b)\n",
    "            a=no//10\n",
    "            no=a\n",
    "        for i in lst:\n",
    "            count = count + i**len(lst)\n",
    "        if count == num:\n",
    "            yield num ,': given number is armstrong number'\n",
    "        else:\n",
    "            pass\n",
    "for i in armstrong(int(input('enter the length of interval'))):\n",
    "    print(i)"
   ]
  },
  {
   "cell_type": "code",
   "execution_count": 24,
   "metadata": {},
   "outputs": [
    {
     "name": "stdout",
     "output_type": "stream",
     "text": [
      "enter the number :100\n"
     ]
    },
    {
     "data": {
      "text/plain": [
       "('sum of natural number is :', 5050)"
      ]
     },
     "execution_count": 24,
     "metadata": {},
     "output_type": "execute_result"
    }
   ],
   "source": [
    "def sum_of_natural_no(num):\n",
    "    count=0\n",
    "    for i in range(0,num+1):\n",
    "        count = count + i\n",
    "    return 'sum of natural number is :', count\n",
    "sum_of_natural_no(int(input('enter the number :')))"
   ]
  },
  {
   "cell_type": "code",
   "execution_count": null,
   "metadata": {},
   "outputs": [],
   "source": []
  }
 ],
 "metadata": {
  "kernelspec": {
   "display_name": "Python 3",
   "language": "python",
   "name": "python3"
  },
  "language_info": {
   "codemirror_mode": {
    "name": "ipython",
    "version": 3
   },
   "file_extension": ".py",
   "mimetype": "text/x-python",
   "name": "python",
   "nbconvert_exporter": "python",
   "pygments_lexer": "ipython3",
   "version": "3.8.3"
  }
 },
 "nbformat": 4,
 "nbformat_minor": 4
}
