{
 "cells": [
  {
   "cell_type": "markdown",
   "metadata": {},
   "source": [
    "# 1. Write a Python program to find words which are greater than given length k?"
   ]
  },
  {
   "cell_type": "code",
   "execution_count": 20,
   "metadata": {},
   "outputs": [
    {
     "name": "stdout",
     "output_type": "stream",
     "text": [
      "enter the word :Maharashtra\n",
      "enter the length :5\n"
     ]
    },
    {
     "data": {
      "text/plain": [
       "('Maharashtra', 'length of the word is :', 11)"
      ]
     },
     "execution_count": 20,
     "metadata": {},
     "output_type": "execute_result"
    }
   ],
   "source": [
    "def word_length(a,b):\n",
    "    c=0\n",
    "    for i in a:\n",
    "        c=c+1\n",
    "    if c>b:\n",
    "        return a , 'length of the word is :',c   \n",
    "    else:\n",
    "        pass\n",
    "    \n",
    "word_length(input('enter the word :'),int(input('enter the length :')))"
   ]
  },
  {
   "cell_type": "markdown",
   "metadata": {},
   "source": [
    "# 2. Write a Python program for removing i-th character from a string?"
   ]
  },
  {
   "cell_type": "code",
   "execution_count": 93,
   "metadata": {},
   "outputs": [
    {
     "name": "stdout",
     "output_type": "stream",
     "text": [
      "enter the string :sachin kapase\n",
      "enter index of char :2\n"
     ]
    },
    {
     "data": {
      "text/plain": [
       "'sahin kapase'"
      ]
     },
     "execution_count": 93,
     "metadata": {},
     "output_type": "execute_result"
    }
   ],
   "source": [
    "def remove(str1,index):\n",
    "    return str1.replace(str1[index],'')\n",
    "remove(input('enter the string :'), int(input('enter index of char :')))"
   ]
  },
  {
   "cell_type": "markdown",
   "metadata": {},
   "source": [
    "# 3. Write a Python program to split and join a string?"
   ]
  },
  {
   "cell_type": "code",
   "execution_count": 19,
   "metadata": {},
   "outputs": [
    {
     "data": {
      "text/plain": [
       "['my n', 'me is s', 'chin']"
      ]
     },
     "execution_count": 19,
     "metadata": {},
     "output_type": "execute_result"
    }
   ],
   "source": [
    "class string_operation:\n",
    "    def __init__(self,string,i,j):\n",
    "        self.string=string\n",
    "        self.i=i\n",
    "        self.j=j\n",
    "    def split_string(self):\n",
    "        splitted = self.string.split(self.i)\n",
    "        return splitted\n",
    "    def join_string(self):\n",
    "        joined = self.string.join(self.j)\n",
    "        return joined\n",
    "\n",
    "obj1= string_operation('my name is sachin','a','name')\n",
    "obj1.split_string()\n",
    "# obj1.join_string()"
   ]
  },
  {
   "cell_type": "markdown",
   "metadata": {},
   "source": [
    "# 4. Write a Python to check if a given string is binary string or not?"
   ]
  },
  {
   "cell_type": "code",
   "execution_count": 76,
   "metadata": {},
   "outputs": [
    {
     "data": {
      "text/plain": [
       "('binary string :', '010101')"
      ]
     },
     "execution_count": 76,
     "metadata": {},
     "output_type": "execute_result"
    }
   ],
   "source": [
    "def check(str1):\n",
    "    s1=set(str1)\n",
    "    s2={'0','1'}\n",
    "    if s1==s2 or s1=={'0'} or s2 == {'1'}:\n",
    "        return 'binary string :', str1\n",
    "    else:\n",
    "        return 'it is not a binary string',str1\n",
    "check('010101')"
   ]
  },
  {
   "cell_type": "markdown",
   "metadata": {},
   "source": [
    "# 5. Write a Python program to find uncommon words from two Strings?"
   ]
  },
  {
   "cell_type": "code",
   "execution_count": 11,
   "metadata": {},
   "outputs": [
    {
     "data": {
      "text/plain": [
       "['handsome', 'beautiful']"
      ]
     },
     "execution_count": 11,
     "metadata": {},
     "output_type": "execute_result"
    }
   ],
   "source": [
    "    a='a wise girl with handsome boy'b='a wise boy with beautiful girl'"
   ]
  },
  {
   "cell_type": "code",
   "execution_count": 12,
   "metadata": {},
   "outputs": [
    {
     "name": "stdout",
     "output_type": "stream",
     "text": [
      "enter string 1 :a wise girl with handsome boy\n",
      "enter string 2 :a wise boy with beautiful girl\n"
     ]
    },
    {
     "data": {
      "text/plain": [
       "['handsome', 'beautiful']"
      ]
     },
     "execution_count": 12,
     "metadata": {},
     "output_type": "execute_result"
    }
   ],
   "source": [
    "def uncomman_str(a,b):\n",
    "    lst=[]\n",
    "    lst1=[]\n",
    "    lst2=[]\n",
    "\n",
    "    for i in a.split(' '):\n",
    "        lst.append(i)\n",
    "    \n",
    "    for j in b.split(' '):\n",
    "        lst1.append(j)\n",
    "        \n",
    "    for i in lst:\n",
    "        if i not in lst1:\n",
    "            lst2.append(i)\n",
    "            \n",
    "    for j in lst1:\n",
    "        if j not in lst:\n",
    "            lst2.append(j)\n",
    "            \n",
    "    return lst2\n",
    "uncomman_str(input('enter string 1 :'), input('enter string 2 :'))"
   ]
  },
  {
   "cell_type": "markdown",
   "metadata": {},
   "source": [
    "# 6. Write a Python to find all duplicate characters in string?"
   ]
  },
  {
   "cell_type": "code",
   "execution_count": 15,
   "metadata": {},
   "outputs": [
    {
     "name": "stdout",
     "output_type": "stream",
     "text": [
      "enter the string :my name is sachin\n"
     ]
    },
    {
     "data": {
      "text/plain": [
       "['m', ' ', 'n', 'a', 'i', 's']"
      ]
     },
     "execution_count": 15,
     "metadata": {},
     "output_type": "execute_result"
    }
   ],
   "source": [
    "def find_duplicate(str1):\n",
    "    lst=[]\n",
    "    \n",
    "    for i in str1:\n",
    "        if str1.count(i)>1:\n",
    "            if i not in lst:\n",
    "                lst.append(i)\n",
    "    return lst\n",
    "find_duplicate(input('enter the string :'))"
   ]
  },
  {
   "cell_type": "markdown",
   "metadata": {},
   "source": [
    "# 7. Write a Python Program to check if a string contains any special character?"
   ]
  },
  {
   "cell_type": "code",
   "execution_count": 51,
   "metadata": {},
   "outputs": [
    {
     "name": "stdout",
     "output_type": "stream",
     "text": [
      "enter the string :my n@me !$ !@ch!n\n",
      "special charachters are : @\n",
      "special charachters are : !\n",
      "special charachters are : $\n",
      "special charachters are : !\n",
      "special charachters are : @\n",
      "special charachters are : !\n"
     ]
    }
   ],
   "source": [
    "special_char = ['!','@','#','$','%','^','&','*','<','>',';','/',]\n",
    "def check_special_char(str1):\n",
    "    for i in str1:\n",
    "        if i in special_char:\n",
    "            print('special charachters are :',i)\n",
    "check_special_char(input('enter the string :'))"
   ]
  },
  {
   "cell_type": "code",
   "execution_count": null,
   "metadata": {},
   "outputs": [],
   "source": []
  }
 ],
 "metadata": {
  "kernelspec": {
   "display_name": "Python 3",
   "language": "python",
   "name": "python3"
  },
  "language_info": {
   "codemirror_mode": {
    "name": "ipython",
    "version": 3
   },
   "file_extension": ".py",
   "mimetype": "text/x-python",
   "name": "python",
   "nbconvert_exporter": "python",
   "pygments_lexer": "ipython3",
   "version": "3.8.3"
  }
 },
 "nbformat": 4,
 "nbformat_minor": 4
}
